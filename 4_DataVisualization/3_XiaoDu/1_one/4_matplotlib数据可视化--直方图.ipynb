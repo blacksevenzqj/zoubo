{
 "cells": [
  {
   "cell_type": "markdown",
   "metadata": {},
   "source": [
    "直方图主要反映一维数据分布情况"
   ]
  },
  {
   "cell_type": "code",
   "execution_count": 1,
   "metadata": {},
   "outputs": [],
   "source": [
    "import pandas as pd\n",
    "import matplotlib.pyplot as plt"
   ]
  },
  {
   "cell_type": "code",
   "execution_count": 3,
   "metadata": {},
   "outputs": [],
   "source": [
    "df = pd.read_excel(r'16-10house_data.xlsx')"
   ]
  },
  {
   "cell_type": "code",
   "execution_count": 4,
   "metadata": {},
   "outputs": [
    {
     "data": {
      "text/html": [
       "<div>\n",
       "<style scoped>\n",
       "    .dataframe tbody tr th:only-of-type {\n",
       "        vertical-align: middle;\n",
       "    }\n",
       "\n",
       "    .dataframe tbody tr th {\n",
       "        vertical-align: top;\n",
       "    }\n",
       "\n",
       "    .dataframe thead th {\n",
       "        text-align: right;\n",
       "    }\n",
       "</style>\n",
       "<table border=\"1\" class=\"dataframe\">\n",
       "  <thead>\n",
       "    <tr style=\"text-align: right;\">\n",
       "      <th></th>\n",
       "      <th>均价</th>\n",
       "      <th>小区</th>\n",
       "      <th>地段</th>\n",
       "      <th>具体位置</th>\n",
       "    </tr>\n",
       "  </thead>\n",
       "  <tbody>\n",
       "    <tr>\n",
       "      <th>0</th>\n",
       "      <td>49000</td>\n",
       "      <td>零陵公寓</td>\n",
       "      <td>斜土路</td>\n",
       "      <td>零陵路111弄</td>\n",
       "    </tr>\n",
       "    <tr>\n",
       "      <th>1</th>\n",
       "      <td>64738</td>\n",
       "      <td>锦馨苑</td>\n",
       "      <td>田林</td>\n",
       "      <td>古井路38弄</td>\n",
       "    </tr>\n",
       "    <tr>\n",
       "      <th>2</th>\n",
       "      <td>59728</td>\n",
       "      <td>金牛苑</td>\n",
       "      <td>上海南站</td>\n",
       "      <td>石龙路731弄</td>\n",
       "    </tr>\n",
       "    <tr>\n",
       "      <th>3</th>\n",
       "      <td>42000</td>\n",
       "      <td>爱邦大厦</td>\n",
       "      <td>徐家汇</td>\n",
       "      <td>零陵路585号</td>\n",
       "    </tr>\n",
       "    <tr>\n",
       "      <th>4</th>\n",
       "      <td>42000</td>\n",
       "      <td>南林公寓</td>\n",
       "      <td>田林</td>\n",
       "      <td>小闸镇街123号</td>\n",
       "    </tr>\n",
       "  </tbody>\n",
       "</table>\n",
       "</div>"
      ],
      "text/plain": [
       "      均价    小区    地段      具体位置\n",
       "0  49000  零陵公寓   斜土路   零陵路111弄\n",
       "1  64738   锦馨苑    田林    古井路38弄\n",
       "2  59728   金牛苑  上海南站   石龙路731弄\n",
       "3  42000  爱邦大厦   徐家汇   零陵路585号\n",
       "4  42000  南林公寓    田林  小闸镇街123号"
      ]
     },
     "execution_count": 4,
     "metadata": {},
     "output_type": "execute_result"
    }
   ],
   "source": [
    "df.head()"
   ]
  },
  {
   "cell_type": "code",
   "execution_count": 5,
   "metadata": {},
   "outputs": [
    {
     "data": {
      "text/plain": [
       "Text(0,0.5,'计数')"
      ]
     },
     "execution_count": 5,
     "metadata": {},
     "output_type": "execute_result"
    },
    {
     "data": {
      "image/png": "[encoded data removed]",
      "text/plain": [
       "<Figure size 432x288 with 1 Axes>"
      ]
     },
     "metadata": {
      "needs_background": "light"
     },
     "output_type": "display_data"
    }
   ],
   "source": [
    "import matplotlib.pyplot as plt\n",
    "import matplotlib\n",
    "%matplotlib inline\n",
    "\n",
    "#解决中文和负号不正常显示问题\n",
    "plt.rcParams['font.sans-serif'] = 'SimHei'\n",
    "plt.rcParams['axes.unicode_minus'] = False\n",
    "\n",
    "#绘制条形图\n",
    "df['均价'].plot(kind='hist',color='violet',legend=True,edgecolor = 'b',title='上海徐汇区二手房均价分布直方图')\n",
    "plt.xlabel('均价（元）')\n",
    "plt.ylabel('计数')"
   ]
  },
  {
   "cell_type": "code",
   "execution_count": 6,
   "metadata": {},
   "outputs": [
    {
     "data": {
      "text/plain": [
       "Text(0,0.5,'计数')"
      ]
     },
     "execution_count": 6,
     "metadata": {},
     "output_type": "execute_result"
    },
    {
     "data": {
      "image/png": "[encoded data removed]",
      "text/plain": [
       "<Figure size 432x288 with 1 Axes>"
      ]
     },
     "metadata": {
      "needs_background": "light"
     },
     "output_type": "display_data"
    }
   ],
   "source": [
    "# 绘制累积分布直方图\n",
    "# cumulative=True 累计\n",
    "alpha=0.4 # 透明度\n",
    "df['均价'].plot(kind='hist', cumulative=True, legend=True, edgecolor='k', alpha=0.4, title='上海徐汇区二手房均价累积分布直方图')\n",
    "plt.xlabel('均价（元）')\n",
    "plt.ylabel('计数')"
   ]
  },
  {
   "cell_type": "code",
   "execution_count": null,
   "metadata": {
    "collapsed": true
   },
   "outputs": [],
   "source": []
  }
 ],
 "metadata": {
  "kernelspec": {
   "display_name": "Python 3",
   "language": "python",
   "name": "python3"
  },
  "language_info": {
   "codemirror_mode": {
    "name": "ipython",
    "version": 3
   },
   "file_extension": ".py",
   "mimetype": "text/x-python",
   "name": "python",
   "nbconvert_exporter": "python",
   "pygments_lexer": "ipython3",
   "version": "3.6.4"
  },
  "toc": {
   "base_numbering": 1,
   "nav_menu": {},
   "number_sections": true,
   "sideBar": true,
   "skip_h1_title": false,
   "title_cell": "Table of Contents",
   "title_sidebar": "Contents",
   "toc_cell": false,
   "toc_position": {},
   "toc_section_display": true,
   "toc_window_display": false
  }
 },
 "nbformat": 4,
 "nbformat_minor": 2
}
